{
 "cells": [
  {
   "cell_type": "code",
   "execution_count": null,
   "id": "imperial-treasure",
   "metadata": {},
   "outputs": [],
   "source": [
    "from pathlib import Path\n",
    "\n",
    "from astropy.io import fits\n",
    "from astropy.visualization import simple_norm\n",
    "from IPython.display import HTML\n",
    "from matplotlib import animation\n",
    "from matplotlib import pyplot as plt\n",
    "from msvst import MSVST2D, MSVST2D1D\n",
    "\n",
    "plt.style.use(\"Solarize_Light2\")\n",
    "\n",
    "\n",
    "def plot_image(image, title, norm=None):\n",
    "    if not norm:\n",
    "        norm = simple_norm(image, 'asinh', max_cut=5.2)\n",
    "        \n",
    "    plt.title(title)\n",
    "    plt.imshow(image, origin=\"lower\", norm=norm, cmap=\"gist_stern\")\n",
    "    plt.axis(\"off\")\n",
    "    \n",
    "    return norm\n",
    "\n",
    "\n",
    "def plot_frames(cube, msvst_a, msvst_b, msvst_c, norm):\n",
    "    fig, ax = plt.subplots(2, 2, figsize=(5, 5))\n",
    "    ax = ax.flatten()\n",
    "\n",
    "    ims = []\n",
    "    for frame, frame_a, frame_b, frame_c in zip(cube, msvst_a, msvst_b, msvst_c):\n",
    "        ims_frame = []\n",
    "\n",
    "        im = ax[0].imshow(frame, origin=\"lower\", cmap=\"gist_stern\", norm=norm, animated=True)\n",
    "        ax[0].set_axis_off()\n",
    "        ims_frame.append(im)\n",
    "\n",
    "        im = ax[1].imshow(frame_a, origin=\"lower\", cmap=\"gist_stern\", norm=norm, animated=True)\n",
    "        ax[1].set_axis_off()\n",
    "        ims_frame.append(im)\n",
    "\n",
    "        im = ax[2].imshow(frame_b, origin=\"lower\", cmap=\"gist_stern\", animated=True)\n",
    "        ax[2].set_axis_off()\n",
    "        ims_frame.append(im)\n",
    "\n",
    "        im = ax[3].imshow(frame_c, origin=\"lower\", cmap=\"gist_stern\", animated=True)\n",
    "        ax[3].set_axis_off()\n",
    "        ims_frame.append(im)\n",
    "        \n",
    "        ims.append(ims_frame)\n",
    "\n",
    "        plt.tight_layout()\n",
    "\n",
    "    plt.close()\n",
    "\n",
    "    ani = animation.ArtistAnimation(fig, ims, interval=150, blit=True, repeat_delay=1000)\n",
    "    \n",
    "    return ani"
   ]
  },
  {
   "cell_type": "markdown",
   "id": "direct-telephone",
   "metadata": {},
   "source": [
    "Using the MSVST denoising module\n",
    "================================"
   ]
  },
  {
   "cell_type": "markdown",
   "id": "generic-swift",
   "metadata": {},
   "source": [
    "2D MSVST\n",
    "--------"
   ]
  },
  {
   "cell_type": "code",
   "execution_count": null,
   "id": "legendary-leadership",
   "metadata": {},
   "outputs": [],
   "source": [
    "help(MSVST2D.denoise)"
   ]
  },
  {
   "cell_type": "code",
   "execution_count": null,
   "id": "generic-suite",
   "metadata": {},
   "outputs": [],
   "source": [
    "image_path = Path(\"data\", \"rosseta.fits\")\n",
    "image = fits.getdata(image_path)"
   ]
  },
  {
   "cell_type": "code",
   "execution_count": null,
   "id": "simple-level",
   "metadata": {},
   "outputs": [],
   "source": [
    "output_path = image_path.parent / \"rosseta_msvst_a.fits\"\n",
    "MSVST2D.denoise(image_path, output_path, verbose=True)\n",
    "image_msvst_a = fits.getdata(output_path)"
   ]
  },
  {
   "cell_type": "code",
   "execution_count": null,
   "id": "crazy-mineral",
   "metadata": {},
   "outputs": [],
   "source": [
    "output_path = image_path.with_stem(\"rosseta_msvst_b\")\n",
    "MSVST2D.denoise(image_path, output_path, kill_last=True, verbose=True)\n",
    "image_msvst_b = fits.getdata(output_path)"
   ]
  },
  {
   "cell_type": "code",
   "execution_count": null,
   "id": "central-exemption",
   "metadata": {},
   "outputs": [],
   "source": [
    "output_path = image_path.with_stem(\"rosseta_msvst_c\")\n",
    "MSVST2D.denoise(image_path, output_path, use_non_default_filter=True, verbose=True)\n",
    "image_msvst_c = fits.getdata(output_path)"
   ]
  },
  {
   "cell_type": "code",
   "execution_count": null,
   "id": "blocked-senegal",
   "metadata": {},
   "outputs": [],
   "source": [
    "plt.figure(figsize=(9,9))\n",
    "plt.subplot(221)\n",
    "norm = plot_image(image, \"Original\")\n",
    "\n",
    "plt.subplot(222)\n",
    "plot_image(image_msvst_a, \"MSVST 2D (default)\")\n",
    "\n",
    "plt.subplot(223)\n",
    "plot_image(image_msvst_b, \"MSVST 2D (kill_last)\")\n",
    "\n",
    "plt.subplot(224)\n",
    "plot_image(image_msvst_c, \"MSVST 2D (use_non_default_filter)\")\n",
    "\n",
    "plt.tight_layout()\n",
    "plt.show()"
   ]
  },
  {
   "cell_type": "markdown",
   "id": "administrative-consent",
   "metadata": {},
   "source": [
    "2D+1D MSVST\n",
    "------------"
   ]
  },
  {
   "cell_type": "code",
   "execution_count": null,
   "id": "ranking-detail",
   "metadata": {},
   "outputs": [],
   "source": [
    "help(MSVST2D1D.denoise)"
   ]
  },
  {
   "cell_type": "code",
   "execution_count": null,
   "id": "apart-humor",
   "metadata": {},
   "outputs": [],
   "source": [
    "cube_path = Path(\"data\", \"grid.fits\")\n",
    "cube = fits.getdata(cube_path)"
   ]
  },
  {
   "cell_type": "code",
   "execution_count": null,
   "id": "interesting-pittsburgh",
   "metadata": {},
   "outputs": [],
   "source": [
    "output_path = cube_path.with_stem(\"grid_msvst_a\")\n",
    "MSVST2D1D.denoise(cube_path, output_path, verbose=True)\n",
    "cube_msvst_a = fits.getdata(output_path)"
   ]
  },
  {
   "cell_type": "code",
   "execution_count": null,
   "id": "prostate-deadline",
   "metadata": {},
   "outputs": [],
   "source": [
    "output_path = cube_path.with_stem(\"grid_msvst_b\")\n",
    "MSVST2D1D.denoise(cube_path, output_path, kill_last=True, verbose=True)\n",
    "cube_msvst_b = fits.getdata(output_path)"
   ]
  },
  {
   "cell_type": "code",
   "execution_count": null,
   "id": "hybrid-mississippi",
   "metadata": {},
   "outputs": [],
   "source": [
    "output_path = cube_path.with_stem(\"grid_msvst_c\")\n",
    "MSVST2D1D.denoise(cube_path, output_path, use_non_default_filter=True, verbose=True)\n",
    "cube_msvst_c = fits.getdata(output_path)"
   ]
  },
  {
   "cell_type": "code",
   "execution_count": null,
   "id": "statistical-basket",
   "metadata": {},
   "outputs": [],
   "source": [
    "plt.figure(figsize=(9,9))\n",
    "plt.subplot(221)\n",
    "norm = plot_image(cube.sum(axis=0), \"Original\")\n",
    "\n",
    "plt.subplot(222)\n",
    "plot_image(cube_msvst_a.sum(axis=0), \"MSVST 2D+1D (default)\")\n",
    "\n",
    "plt.subplot(223)\n",
    "plot_image(cube_msvst_b.sum(axis=0), \"MSVST 2D+1D (kill_last)\")\n",
    "\n",
    "plt.subplot(224)\n",
    "plot_image(cube_msvst_c.sum(axis=0), \"MSVST 2D+1D (use_non_default_filter)\")\n",
    "\n",
    "plt.tight_layout()\n",
    "plt.show()"
   ]
  },
  {
   "cell_type": "code",
   "execution_count": null,
   "id": "floating-celebration",
   "metadata": {},
   "outputs": [],
   "source": [
    "ani = plot_frames(cube, cube_msvst_a, cube_msvst_b, cube_msvst_c, norm)\n",
    "HTML(ani.to_jshtml())"
   ]
  }
 ],
 "metadata": {
  "kernelspec": {
   "display_name": "STATiX",
   "language": "python",
   "name": "statix"
  },
  "language_info": {
   "codemirror_mode": {
    "name": "ipython",
    "version": 3
   },
   "file_extension": ".py",
   "mimetype": "text/x-python",
   "name": "python",
   "nbconvert_exporter": "python",
   "pygments_lexer": "ipython3",
   "version": "3.10.8"
  },
  "toc-autonumbering": true
 },
 "nbformat": 4,
 "nbformat_minor": 5
}
